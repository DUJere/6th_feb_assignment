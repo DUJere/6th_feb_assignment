{
 "cells": [
  {
   "cell_type": "markdown",
   "id": "0c74cdd9-149e-4011-b6b7-72055131afbc",
   "metadata": {},
   "source": [
    "Q1. Create a function which will take a list as an argument and return the product of all the numbers\n",
    "after creating a flat list."
   ]
  },
  {
   "cell_type": "code",
   "execution_count": 10,
   "id": "f6274fe2-f6b2-4642-9749-607c4f278c45",
   "metadata": {},
   "outputs": [],
   "source": [
    "list1 = [1,2,3,4, [44,55,66, True], False, (34,56,78,89,34), {1,2,3,3,2,1}, {1:34, \"key2\": [55, 67, 78, 89], 4: (45,\n",
    "22, 61, 34)}, [56, 'data science'], 'Machine Learning']"
   ]
  },
  {
   "cell_type": "code",
   "execution_count": 11,
   "id": "e4028702-da1a-4243-ada9-b51e93006f1e",
   "metadata": {},
   "outputs": [],
   "source": [
    "from functools import reduce\n",
    "\n",
    "def product_num(a) :\n",
    "    flatlist = []\n",
    "    for i in a :\n",
    "        if type(i) is int :\n",
    "            flatlist.append(i)\n",
    "        elif type(i) is list or type(i) is tuple or type(i) is set:\n",
    "            for j in i :\n",
    "                if type(j) is int :\n",
    "                    flatlist.append(j)\n",
    "        elif type(i) is dict:\n",
    "            dict_keys = list(i.keys())\n",
    "            dict_values = list(i.values())\n",
    "            for k in dict_keys :\n",
    "                if type(k) is int :\n",
    "                    flatlist.append(k)\n",
    "            for v in dict_values :\n",
    "                if type(v) is int :\n",
    "                    flatlist.append(v)\n",
    "                elif type(v) is list or type(v) is tuple :\n",
    "                    for u in v :\n",
    "                        if type(u) is int :\n",
    "                            flatlist.append(u)\n",
    "                        \n",
    "    product = reduce(lambda x , y : x * y , flatlist)\n",
    "    \n",
    "    return product\n",
    "\n"
   ]
  },
  {
   "cell_type": "code",
   "execution_count": 12,
   "id": "cc070279-17c7-497d-9e64-e6f4825aa0ee",
   "metadata": {},
   "outputs": [
    {
     "data": {
      "text/plain": [
       "4134711838987085478833841242112000"
      ]
     },
     "execution_count": 12,
     "metadata": {},
     "output_type": "execute_result"
    }
   ],
   "source": [
    "product_num(list1)"
   ]
  },
  {
   "cell_type": "markdown",
   "id": "f0d214aa-45dc-4639-981d-db1e964f50a6",
   "metadata": {},
   "source": [
    "Q2. Write a python program for encrypting a message sent to you by your friend. The logic of encryption\n",
    "should be such that, for a the output should be z. For b, the output should be y. For c, the output should\n",
    "be x respectively. Also, the whitespace should be replaced with a dollar sign. Keep the punctuation\n",
    "marks unchanged."
   ]
  },
  {
   "cell_type": "code",
   "execution_count": 13,
   "id": "d82ae267-5198-4ab8-aa6c-d51c191cb116",
   "metadata": {},
   "outputs": [],
   "source": [
    "ip = \"I want to become a Data Scientist.\"\n",
    "new_ip = ip.lower()"
   ]
  },
  {
   "cell_type": "code",
   "execution_count": 14,
   "id": "b60643a4-50d6-4a51-a581-137686615a62",
   "metadata": {},
   "outputs": [
    {
     "name": "stdout",
     "output_type": "stream",
     "text": [
      "i$wznt$to$yexome$z$dztz$sxientist.\n"
     ]
    }
   ],
   "source": [
    "rep = {\"a\" : \"z\", \"b\" : \"y\", \"c\" : \"x\", \" \" : \"$\" }\n",
    "\n",
    "en = new_ip[::]\n",
    "\n",
    "for i in rep :\n",
    "    en = en.replace(i,rep[i])\n",
    "    \n",
    "print(en)\n",
    "    "
   ]
  }
 ],
 "metadata": {
  "kernelspec": {
   "display_name": "Python 3 (ipykernel)",
   "language": "python",
   "name": "python3"
  },
  "language_info": {
   "codemirror_mode": {
    "name": "ipython",
    "version": 3
   },
   "file_extension": ".py",
   "mimetype": "text/x-python",
   "name": "python",
   "nbconvert_exporter": "python",
   "pygments_lexer": "ipython3",
   "version": "3.10.8"
  }
 },
 "nbformat": 4,
 "nbformat_minor": 5
}
